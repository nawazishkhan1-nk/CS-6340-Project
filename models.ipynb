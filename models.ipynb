{
 "cells": [
  {
   "cell_type": "code",
   "execution_count": 2,
   "source": [
    "from transformers import AutoTokenizer, AutoModel\n",
    "\n",
    "# used to tokenize the\n",
    "tokenizer = AutoTokenizer.from_pretrained('bert-base-uncased')\n",
    "# load the pre-trained model\n",
    "model = AutoModel.from_pretrained(\"bert-base-uncased\")\n",
    "\n",
    "# example input sentence\n",
    "text = \"I'm excited to use bert for my project\"\n",
    "\n",
    "# encode and pass through the BERT\n",
    "encoded_input = tokenizer(text, return_tensors='pt')\n",
    "output = model(**encoded_input)\n",
    "print(\"output=\",output)"
   ],
   "outputs": [
    {
     "output_type": "stream",
     "name": "stderr",
     "text": [
      "/home/sci/nawazish.khan/miniconda3/envs/assignment/lib/python3.7/site-packages/tqdm/auto.py:22: TqdmWarning: IProgress not found. Please update jupyter and ipywidgets. See https://ipywidgets.readthedocs.io/en/stable/user_install.html\n",
      "  from .autonotebook import tqdm as notebook_tqdm\n",
      "Some weights of the model checkpoint at bert-base-uncased were not used when initializing BertModel: ['cls.predictions.transform.dense.weight', 'cls.predictions.bias', 'cls.seq_relationship.weight', 'cls.seq_relationship.bias', 'cls.predictions.transform.LayerNorm.weight', 'cls.predictions.transform.dense.bias', 'cls.predictions.transform.LayerNorm.bias', 'cls.predictions.decoder.weight']\n",
      "- This IS expected if you are initializing BertModel from the checkpoint of a model trained on another task or with another architecture (e.g. initializing a BertForSequenceClassification model from a BertForPreTraining model).\n",
      "- This IS NOT expected if you are initializing BertModel from the checkpoint of a model that you expect to be exactly identical (initializing a BertForSequenceClassification model from a BertForSequenceClassification model).\n"
     ]
    },
    {
     "output_type": "stream",
     "name": "stdout",
     "text": [
      "output= BaseModelOutputWithPoolingAndCrossAttentions(last_hidden_state=tensor([[[ 0.2920,  0.2906,  0.0147,  ..., -0.0680,  0.2248,  0.2579],\n",
      "         [ 0.1679,  0.1840, -0.2807,  ..., -0.0182,  0.8062,  0.4338],\n",
      "         [ 0.6879,  0.3494, -0.2140,  ..., -0.2742, -0.6968, -0.3890],\n",
      "         ...,\n",
      "         [ 0.5812,  0.4138,  0.6396,  ..., -0.1459, -0.2287,  0.1286],\n",
      "         [ 0.2247,  0.0662, -0.6067,  ...,  0.1159,  0.0736, -0.3841],\n",
      "         [ 0.5570,  0.4698, -0.1207,  ...,  0.0261, -0.6211, -0.4077]]],\n",
      "       grad_fn=<NativeLayerNormBackward>), pooler_output=tensor([[-0.8576, -0.3526, -0.4798,  0.5471,  0.3097, -0.0192,  0.7823,  0.2221,\n",
      "         -0.3733, -0.9999, -0.1004,  0.8016,  0.9845,  0.1244,  0.9315, -0.4587,\n",
      "          0.0771, -0.5272,  0.2299, -0.1533,  0.6701,  0.9992,  0.4319,  0.2252,\n",
      "          0.4202,  0.9456, -0.7270,  0.9368,  0.9509,  0.7159, -0.5313,  0.1873,\n",
      "         -0.9905, -0.0657, -0.3948, -0.9911,  0.2856, -0.7598,  0.1371,  0.1914,\n",
      "         -0.8959,  0.2909,  0.9998, -0.4837,  0.2029, -0.1818, -1.0000,  0.1162,\n",
      "         -0.8952,  0.5424,  0.3186,  0.5097,  0.0928,  0.3773,  0.3852,  0.1742,\n",
      "         -0.2287, -0.0486, -0.1690, -0.4935, -0.6281,  0.3247, -0.5545, -0.8844,\n",
      "          0.4816,  0.2905,  0.0110, -0.1862,  0.0116, -0.0838,  0.8517,  0.1563,\n",
      "          0.0390, -0.8587,  0.0296,  0.1147, -0.5791,  1.0000, -0.2666, -0.9794,\n",
      "          0.5411,  0.2991,  0.4971,  0.3696, -0.0033, -1.0000,  0.4185, -0.0815,\n",
      "         -0.9912,  0.1363,  0.5175, -0.1991,  0.2520,  0.5570, -0.2099, -0.3291,\n",
      "         -0.1827, -0.3879, -0.1388, -0.1640,  0.0699, -0.0920, -0.1618, -0.3485,\n",
      "          0.1729, -0.4299, -0.4226,  0.4398, -0.2301,  0.6014,  0.3527, -0.2285,\n",
      "          0.2457, -0.9600,  0.6120, -0.2349, -0.9886, -0.4866, -0.9911,  0.6405,\n",
      "          0.0196, -0.1383,  0.9612,  0.1225,  0.3626,  0.0538, -0.6040, -1.0000,\n",
      "         -0.4638, -0.0265, -0.0491, -0.1291, -0.9778, -0.9674,  0.5162,  0.9548,\n",
      "          0.1637,  0.9995, -0.1904,  0.9477,  0.1056, -0.2362,  0.0487, -0.4234,\n",
      "          0.5341,  0.0219, -0.4265,  0.0917, -0.1772,  0.0739, -0.4649, -0.1361,\n",
      "         -0.1671, -0.9384, -0.3870,  0.9553,  0.0154, -0.5515,  0.4585, -0.1410,\n",
      "         -0.2557,  0.7863,  0.4491,  0.2824, -0.1377,  0.4098, -0.1287,  0.4830,\n",
      "         -0.7940,  0.1985,  0.3606, -0.1927, -0.3583, -0.9814, -0.2383,  0.4652,\n",
      "          0.9871,  0.7301,  0.1445,  0.4603, -0.1181,  0.5492, -0.9584,  0.9840,\n",
      "         -0.0977,  0.2506,  0.0558,  0.3845, -0.8320, -0.2694,  0.7093, -0.5862,\n",
      "         -0.8535,  0.0385, -0.4260, -0.2937, -0.4851,  0.3618, -0.2193, -0.3024,\n",
      "         -0.0142,  0.9399,  0.9019,  0.6912, -0.2643,  0.4440, -0.8850, -0.4298,\n",
      "          0.0437,  0.0788,  0.0740,  0.9941, -0.3261,  0.0315, -0.9301, -0.9860,\n",
      "         -0.1518, -0.8685, -0.0338, -0.6209,  0.5232, -0.1265,  0.0611,  0.3095,\n",
      "         -0.9523, -0.7219,  0.2819, -0.3766,  0.3834, -0.3043,  0.8608,  0.6564,\n",
      "         -0.5245,  0.3155,  0.9140, -0.5080, -0.7532,  0.5856, -0.1984,  0.8267,\n",
      "         -0.5465,  0.9793,  0.6449,  0.6942, -0.9261, -0.3905, -0.7817, -0.1624,\n",
      "          0.0339, -0.3045,  0.5334,  0.5350,  0.3948,  0.7427, -0.4741,  0.9840,\n",
      "         -0.9154, -0.9481, -0.5316, -0.1429, -0.9891,  0.5150,  0.2170, -0.1767,\n",
      "         -0.3085, -0.5179, -0.9605,  0.6869,  0.0111,  0.9665, -0.1744, -0.8072,\n",
      "         -0.3645, -0.9386, -0.2270, -0.1114,  0.1607, -0.1783, -0.9446,  0.4364,\n",
      "          0.5249,  0.5463, -0.3697,  0.9944,  1.0000,  0.9764,  0.8817,  0.8479,\n",
      "         -0.9970, -0.5711,  1.0000, -0.9420, -1.0000, -0.9161, -0.4327,  0.2931,\n",
      "         -1.0000, -0.1193,  0.1700, -0.9141,  0.0987,  0.9788,  0.9727, -1.0000,\n",
      "          0.8325,  0.9474, -0.5310,  0.8044, -0.2277,  0.9744,  0.3143,  0.4743,\n",
      "         -0.1443,  0.3820, -0.6492, -0.7415, -0.0600, -0.3325,  0.9776,  0.0459,\n",
      "         -0.7047, -0.9018,  0.2705, -0.1334, -0.4700, -0.9710, -0.1722, -0.0126,\n",
      "          0.6232,  0.1204,  0.2178, -0.6716,  0.1089, -0.4233,  0.2881,  0.6368,\n",
      "         -0.9407, -0.5276,  0.1307, -0.3427, -0.1307, -0.9685,  0.9630, -0.3557,\n",
      "          0.2995,  1.0000,  0.0508, -0.8665,  0.3982,  0.1948, -0.0497,  1.0000,\n",
      "          0.7104, -0.9813, -0.5080,  0.4363, -0.4950, -0.5149,  0.9989, -0.2443,\n",
      "         -0.1590,  0.1512,  0.9790, -0.9893,  0.9526, -0.8889, -0.9694,  0.9690,\n",
      "          0.9477, -0.3723, -0.5792, -0.0288, -0.2389,  0.1784, -0.9288,  0.6454,\n",
      "          0.2534, -0.0522,  0.8911, -0.5658, -0.5243,  0.2030, -0.1218,  0.2526,\n",
      "          0.6607,  0.3937, -0.0947,  0.0788, -0.1348, -0.5795, -0.9766,  0.1567,\n",
      "          1.0000, -0.0243,  0.3003, -0.2624,  0.0135, -0.3022,  0.4204,  0.4544,\n",
      "         -0.2348, -0.8331,  0.4185, -0.9002, -0.9904,  0.5942,  0.1268, -0.1879,\n",
      "          0.9999,  0.4037,  0.1019,  0.2037,  0.9045, -0.1423,  0.4187,  0.3446,\n",
      "          0.9783, -0.0963,  0.4674,  0.7511, -0.4376, -0.2406, -0.5911,  0.0228,\n",
      "         -0.9092,  0.1735, -0.9656,  0.9605,  0.6568,  0.2871,  0.0437,  0.0420,\n",
      "          1.0000, -0.6683,  0.4324,  0.4120,  0.4819, -0.9948, -0.7664, -0.3474,\n",
      "          0.0856, -0.3235, -0.3102,  0.2180, -0.9666,  0.2846,  0.1918, -0.9506,\n",
      "         -0.9883,  0.0190,  0.5451, -0.0050, -0.9082, -0.6527, -0.6232,  0.3074,\n",
      "         -0.1100, -0.9386,  0.3815, -0.1459,  0.4351, -0.0981,  0.5310,  0.3718,\n",
      "          0.8694, -0.1051, -0.2080,  0.0169, -0.7207,  0.6971, -0.7334, -0.5252,\n",
      "         -0.0726,  1.0000, -0.3223,  0.6044,  0.6679,  0.5310, -0.1531,  0.2000,\n",
      "          0.6436,  0.2021, -0.3002, -0.1007,  0.2587, -0.1916,  0.5259,  0.0419,\n",
      "          0.1492,  0.7416,  0.6559,  0.2311,  0.0910, -0.0660,  0.9967,  0.0381,\n",
      "         -0.1654, -0.4282,  0.0278, -0.3157,  0.3206,  1.0000,  0.2280,  0.1736,\n",
      "         -0.9913, -0.4801, -0.8578,  1.0000,  0.8528, -0.7505,  0.5336,  0.4491,\n",
      "         -0.1227,  0.5869, -0.0932, -0.1989,  0.1474, -0.0068,  0.9656, -0.5280,\n",
      "         -0.9740, -0.5470,  0.3432, -0.9655,  0.9980, -0.4869, -0.2158, -0.4250,\n",
      "         -0.0647, -0.5096, -0.1350, -0.9863, -0.1027,  0.0545,  0.9655,  0.1146,\n",
      "         -0.4832, -0.8911,  0.2111,  0.2312, -0.5912, -0.9291,  0.9688, -0.9836,\n",
      "          0.5476,  1.0000,  0.2800, -0.3871,  0.1496, -0.3603,  0.2804, -0.0165,\n",
      "          0.5416, -0.9511, -0.2793, -0.1263,  0.2084, -0.0327, -0.2959,  0.6187,\n",
      "          0.2290, -0.4640, -0.6289,  0.0425,  0.3273,  0.7361, -0.1944, -0.0156,\n",
      "          0.0402, -0.0559, -0.8948, -0.2985, -0.3182, -0.9997,  0.5538, -1.0000,\n",
      "          0.0480, -0.2985, -0.1718,  0.7904,  0.6678,  0.2432, -0.6023, -0.3980,\n",
      "          0.8166,  0.7209, -0.1339, -0.0089, -0.6514,  0.1451,  0.0053,  0.2145,\n",
      "         -0.1225,  0.7407, -0.2150,  1.0000,  0.0634, -0.3711, -0.9279,  0.1456,\n",
      "         -0.1421,  1.0000, -0.7686, -0.9547,  0.3644, -0.6202, -0.8123,  0.2610,\n",
      "         -0.1145, -0.7242, -0.7565,  0.9427,  0.5384, -0.5631,  0.3866, -0.1923,\n",
      "         -0.3991, -0.1288,  0.3946,  0.9900,  0.2187,  0.8286, -0.0662, -0.0718,\n",
      "          0.9666,  0.2407,  0.0330,  0.0685,  1.0000,  0.2127, -0.9108,  0.3428,\n",
      "         -0.9751, -0.1250, -0.9365,  0.2770,  0.1394,  0.9048, -0.1367,  0.9506,\n",
      "         -0.2067, -0.0281, -0.2345,  0.1849,  0.2969, -0.9283, -0.9868, -0.9839,\n",
      "          0.4579, -0.3594,  0.0281,  0.2428,  0.0225,  0.3006,  0.3880, -1.0000,\n",
      "          0.9325,  0.3704,  0.5714,  0.9694,  0.4761,  0.3605,  0.2288, -0.9848,\n",
      "         -0.9448, -0.2732, -0.1590,  0.5536,  0.5661,  0.8651,  0.3265, -0.4326,\n",
      "         -0.5037,  0.0147, -0.8876, -0.9939,  0.4205, -0.0117, -0.8996,  0.9531,\n",
      "         -0.4230, -0.1081,  0.2934, -0.4369,  0.8490,  0.7651,  0.1841,  0.0061,\n",
      "          0.4289,  0.8876,  0.8935,  0.9834, -0.5111,  0.6785, -0.3071,  0.4098,\n",
      "          0.8191, -0.9352,  0.0141,  0.1701, -0.0802,  0.2198, -0.1088, -0.9137,\n",
      "          0.3160, -0.2214,  0.4175, -0.3416,  0.2120, -0.3474, -0.0994, -0.6351,\n",
      "         -0.5097,  0.5989,  0.1604,  0.9035,  0.7011,  0.0095, -0.5323, -0.0437,\n",
      "         -0.2775, -0.9108,  0.8237,  0.0537,  0.0985,  0.1322, -0.2263,  0.8181,\n",
      "         -0.1827, -0.2526, -0.2443, -0.6180,  0.8609, -0.5123, -0.4408, -0.4667,\n",
      "          0.6763,  0.2709,  0.9993, -0.3594, -0.5932, -0.3580, -0.3499,  0.3227,\n",
      "         -0.3058, -1.0000,  0.2262, -0.3702,  0.3903, -0.1973,  0.5390, -0.1518,\n",
      "         -0.9564, -0.1307,  0.5705,  0.3756, -0.4716, -0.3853,  0.5590,  0.1036,\n",
      "          0.8843,  0.8566,  0.0281,  0.4766,  0.5839, -0.2080, -0.6485,  0.8931]],\n",
      "       grad_fn=<TanhBackward>), hidden_states=None, past_key_values=None, attentions=None, cross_attentions=None)\n"
     ]
    }
   ],
   "metadata": {}
  },
  {
   "cell_type": "code",
   "execution_count": 6,
   "source": [
    "from datasets import load_dataset\n",
    "squad = load_dataset(\"squad\")"
   ],
   "outputs": [
    {
     "output_type": "error",
     "ename": "ImportError",
     "evalue": "cannot import name 'DatasetInfo' from 'huggingface_hub.hf_api' (/home/sci/nawazish.khan/miniconda3/envs/assignment/lib/python3.7/site-packages/huggingface_hub/hf_api.py)",
     "traceback": [
      "\u001b[0;31m---------------------------------------------------------------------------\u001b[0m",
      "\u001b[0;31mImportError\u001b[0m                               Traceback (most recent call last)",
      "\u001b[0;32m/tmp/ipykernel_31711/2900756428.py\u001b[0m in \u001b[0;36m<module>\u001b[0;34m\u001b[0m\n\u001b[0;32m----> 1\u001b[0;31m \u001b[0;32mfrom\u001b[0m \u001b[0mdatasets\u001b[0m \u001b[0;32mimport\u001b[0m \u001b[0mload_dataset\u001b[0m\u001b[0;34m\u001b[0m\u001b[0;34m\u001b[0m\u001b[0m\n\u001b[0m\u001b[1;32m      2\u001b[0m \u001b[0msquad\u001b[0m \u001b[0;34m=\u001b[0m \u001b[0mload_dataset\u001b[0m\u001b[0;34m(\u001b[0m\u001b[0;34m\"squad\"\u001b[0m\u001b[0;34m)\u001b[0m\u001b[0;34m\u001b[0m\u001b[0;34m\u001b[0m\u001b[0m\n",
      "\u001b[0;32m~/miniconda3/envs/assignment/lib/python3.7/site-packages/datasets/__init__.py\u001b[0m in \u001b[0;36m<module>\u001b[0;34m\u001b[0m\n\u001b[1;32m     41\u001b[0m \u001b[0;32mdel\u001b[0m \u001b[0mversion\u001b[0m\u001b[0;34m\u001b[0m\u001b[0;34m\u001b[0m\u001b[0m\n\u001b[1;32m     42\u001b[0m \u001b[0;34m\u001b[0m\u001b[0m\n\u001b[0;32m---> 43\u001b[0;31m \u001b[0;32mfrom\u001b[0m \u001b[0;34m.\u001b[0m\u001b[0marrow_dataset\u001b[0m \u001b[0;32mimport\u001b[0m \u001b[0mDataset\u001b[0m\u001b[0;34m\u001b[0m\u001b[0;34m\u001b[0m\u001b[0m\n\u001b[0m\u001b[1;32m     44\u001b[0m \u001b[0;32mfrom\u001b[0m \u001b[0;34m.\u001b[0m\u001b[0marrow_reader\u001b[0m \u001b[0;32mimport\u001b[0m \u001b[0mReadInstruction\u001b[0m\u001b[0;34m\u001b[0m\u001b[0;34m\u001b[0m\u001b[0m\n\u001b[1;32m     45\u001b[0m \u001b[0;32mfrom\u001b[0m \u001b[0;34m.\u001b[0m\u001b[0mbuilder\u001b[0m \u001b[0;32mimport\u001b[0m \u001b[0mArrowBasedBuilder\u001b[0m\u001b[0;34m,\u001b[0m \u001b[0mBeamBasedBuilder\u001b[0m\u001b[0;34m,\u001b[0m \u001b[0mBuilderConfig\u001b[0m\u001b[0;34m,\u001b[0m \u001b[0mDatasetBuilder\u001b[0m\u001b[0;34m,\u001b[0m \u001b[0mGeneratorBasedBuilder\u001b[0m\u001b[0;34m\u001b[0m\u001b[0;34m\u001b[0m\u001b[0m\n",
      "\u001b[0;32m~/miniconda3/envs/assignment/lib/python3.7/site-packages/datasets/arrow_dataset.py\u001b[0m in \u001b[0;36m<module>\u001b[0;34m\u001b[0m\n\u001b[1;32m     62\u001b[0m \u001b[0;32mfrom\u001b[0m \u001b[0;34m.\u001b[0m \u001b[0;32mimport\u001b[0m \u001b[0mconfig\u001b[0m\u001b[0;34m\u001b[0m\u001b[0;34m\u001b[0m\u001b[0m\n\u001b[1;32m     63\u001b[0m \u001b[0;32mfrom\u001b[0m \u001b[0;34m.\u001b[0m\u001b[0marrow_reader\u001b[0m \u001b[0;32mimport\u001b[0m \u001b[0mArrowReader\u001b[0m\u001b[0;34m\u001b[0m\u001b[0;34m\u001b[0m\u001b[0m\n\u001b[0;32m---> 64\u001b[0;31m \u001b[0;32mfrom\u001b[0m \u001b[0;34m.\u001b[0m\u001b[0marrow_writer\u001b[0m \u001b[0;32mimport\u001b[0m \u001b[0mArrowWriter\u001b[0m\u001b[0;34m,\u001b[0m \u001b[0mOptimizedTypedSequence\u001b[0m\u001b[0;34m\u001b[0m\u001b[0;34m\u001b[0m\u001b[0m\n\u001b[0m\u001b[1;32m     65\u001b[0m \u001b[0;32mfrom\u001b[0m \u001b[0;34m.\u001b[0m\u001b[0mdownload\u001b[0m\u001b[0;34m.\u001b[0m\u001b[0mdownload_config\u001b[0m \u001b[0;32mimport\u001b[0m \u001b[0mDownloadConfig\u001b[0m\u001b[0;34m\u001b[0m\u001b[0;34m\u001b[0m\u001b[0m\n\u001b[1;32m     66\u001b[0m \u001b[0;32mfrom\u001b[0m \u001b[0;34m.\u001b[0m\u001b[0mdownload\u001b[0m\u001b[0;34m.\u001b[0m\u001b[0mstreaming_download_manager\u001b[0m \u001b[0;32mimport\u001b[0m \u001b[0mxgetsize\u001b[0m\u001b[0;34m\u001b[0m\u001b[0;34m\u001b[0m\u001b[0m\n",
      "\u001b[0;32m~/miniconda3/envs/assignment/lib/python3.7/site-packages/datasets/arrow_writer.py\u001b[0m in \u001b[0;36m<module>\u001b[0;34m\u001b[0m\n\u001b[1;32m     25\u001b[0m \u001b[0;34m\u001b[0m\u001b[0m\n\u001b[1;32m     26\u001b[0m \u001b[0;32mfrom\u001b[0m \u001b[0;34m.\u001b[0m \u001b[0;32mimport\u001b[0m \u001b[0mconfig\u001b[0m\u001b[0;34m\u001b[0m\u001b[0;34m\u001b[0m\u001b[0m\n\u001b[0;32m---> 27\u001b[0;31m \u001b[0;32mfrom\u001b[0m \u001b[0;34m.\u001b[0m\u001b[0mfeatures\u001b[0m \u001b[0;32mimport\u001b[0m \u001b[0mFeatures\u001b[0m\u001b[0;34m,\u001b[0m \u001b[0mImage\u001b[0m\u001b[0;34m,\u001b[0m \u001b[0mValue\u001b[0m\u001b[0;34m\u001b[0m\u001b[0;34m\u001b[0m\u001b[0m\n\u001b[0m\u001b[1;32m     28\u001b[0m from .features.features import (\n\u001b[1;32m     29\u001b[0m     \u001b[0mFeatureType\u001b[0m\u001b[0;34m,\u001b[0m\u001b[0;34m\u001b[0m\u001b[0;34m\u001b[0m\u001b[0m\n",
      "\u001b[0;32m~/miniconda3/envs/assignment/lib/python3.7/site-packages/datasets/features/__init__.py\u001b[0m in \u001b[0;36m<module>\u001b[0;34m\u001b[0m\n\u001b[1;32m     15\u001b[0m     \u001b[0;34m\"TranslationVariableLanguages\"\u001b[0m\u001b[0;34m,\u001b[0m\u001b[0;34m\u001b[0m\u001b[0;34m\u001b[0m\u001b[0m\n\u001b[1;32m     16\u001b[0m ]\n\u001b[0;32m---> 17\u001b[0;31m \u001b[0;32mfrom\u001b[0m \u001b[0;34m.\u001b[0m\u001b[0maudio\u001b[0m \u001b[0;32mimport\u001b[0m \u001b[0mAudio\u001b[0m\u001b[0;34m\u001b[0m\u001b[0;34m\u001b[0m\u001b[0m\n\u001b[0m\u001b[1;32m     18\u001b[0m \u001b[0;32mfrom\u001b[0m \u001b[0;34m.\u001b[0m\u001b[0mfeatures\u001b[0m \u001b[0;32mimport\u001b[0m \u001b[0mArray2D\u001b[0m\u001b[0;34m,\u001b[0m \u001b[0mArray3D\u001b[0m\u001b[0;34m,\u001b[0m \u001b[0mArray4D\u001b[0m\u001b[0;34m,\u001b[0m \u001b[0mArray5D\u001b[0m\u001b[0;34m,\u001b[0m \u001b[0mClassLabel\u001b[0m\u001b[0;34m,\u001b[0m \u001b[0mFeatures\u001b[0m\u001b[0;34m,\u001b[0m \u001b[0mSequence\u001b[0m\u001b[0;34m,\u001b[0m \u001b[0mValue\u001b[0m\u001b[0;34m\u001b[0m\u001b[0;34m\u001b[0m\u001b[0m\n\u001b[1;32m     19\u001b[0m \u001b[0;32mfrom\u001b[0m \u001b[0;34m.\u001b[0m\u001b[0mimage\u001b[0m \u001b[0;32mimport\u001b[0m \u001b[0mImage\u001b[0m\u001b[0;34m\u001b[0m\u001b[0;34m\u001b[0m\u001b[0m\n",
      "\u001b[0;32m~/miniconda3/envs/assignment/lib/python3.7/site-packages/datasets/features/audio.py\u001b[0m in \u001b[0;36m<module>\u001b[0;34m\u001b[0m\n\u001b[1;32m     10\u001b[0m \u001b[0;34m\u001b[0m\u001b[0m\n\u001b[1;32m     11\u001b[0m \u001b[0;32mfrom\u001b[0m \u001b[0;34m.\u001b[0m\u001b[0;34m.\u001b[0m \u001b[0;32mimport\u001b[0m \u001b[0mconfig\u001b[0m\u001b[0;34m\u001b[0m\u001b[0;34m\u001b[0m\u001b[0m\n\u001b[0;32m---> 12\u001b[0;31m \u001b[0;32mfrom\u001b[0m \u001b[0;34m.\u001b[0m\u001b[0;34m.\u001b[0m\u001b[0mdownload\u001b[0m\u001b[0;34m.\u001b[0m\u001b[0mstreaming_download_manager\u001b[0m \u001b[0;32mimport\u001b[0m \u001b[0mxopen\u001b[0m\u001b[0;34m\u001b[0m\u001b[0;34m\u001b[0m\u001b[0m\n\u001b[0m\u001b[1;32m     13\u001b[0m \u001b[0;32mfrom\u001b[0m \u001b[0;34m.\u001b[0m\u001b[0;34m.\u001b[0m\u001b[0mtable\u001b[0m \u001b[0;32mimport\u001b[0m \u001b[0marray_cast\u001b[0m\u001b[0;34m\u001b[0m\u001b[0;34m\u001b[0m\u001b[0m\n\u001b[1;32m     14\u001b[0m \u001b[0;32mfrom\u001b[0m \u001b[0;34m.\u001b[0m\u001b[0;34m.\u001b[0m\u001b[0mutils\u001b[0m\u001b[0;34m.\u001b[0m\u001b[0mpy_utils\u001b[0m \u001b[0;32mimport\u001b[0m \u001b[0mno_op_if_value_is_null\u001b[0m\u001b[0;34m,\u001b[0m \u001b[0mstring_to_dict\u001b[0m\u001b[0;34m\u001b[0m\u001b[0;34m\u001b[0m\u001b[0m\n",
      "\u001b[0;32m~/miniconda3/envs/assignment/lib/python3.7/site-packages/datasets/download/__init__.py\u001b[0m in \u001b[0;36m<module>\u001b[0;34m\u001b[0m\n\u001b[1;32m      8\u001b[0m \u001b[0;32mfrom\u001b[0m \u001b[0;34m.\u001b[0m\u001b[0mdownload_config\u001b[0m \u001b[0;32mimport\u001b[0m \u001b[0mDownloadConfig\u001b[0m\u001b[0;34m\u001b[0m\u001b[0;34m\u001b[0m\u001b[0m\n\u001b[1;32m      9\u001b[0m \u001b[0;32mfrom\u001b[0m \u001b[0;34m.\u001b[0m\u001b[0mdownload_manager\u001b[0m \u001b[0;32mimport\u001b[0m \u001b[0mDownloadManager\u001b[0m\u001b[0;34m,\u001b[0m \u001b[0mDownloadMode\u001b[0m\u001b[0;34m\u001b[0m\u001b[0;34m\u001b[0m\u001b[0m\n\u001b[0;32m---> 10\u001b[0;31m \u001b[0;32mfrom\u001b[0m \u001b[0;34m.\u001b[0m\u001b[0mstreaming_download_manager\u001b[0m \u001b[0;32mimport\u001b[0m \u001b[0mStreamingDownloadManager\u001b[0m\u001b[0;34m\u001b[0m\u001b[0;34m\u001b[0m\u001b[0m\n\u001b[0m",
      "\u001b[0;32m~/miniconda3/envs/assignment/lib/python3.7/site-packages/datasets/download/streaming_download_manager.py\u001b[0m in \u001b[0;36m<module>\u001b[0;34m\u001b[0m\n\u001b[1;32m     18\u001b[0m \u001b[0;34m\u001b[0m\u001b[0m\n\u001b[1;32m     19\u001b[0m \u001b[0;32mfrom\u001b[0m \u001b[0;34m.\u001b[0m\u001b[0;34m.\u001b[0m \u001b[0;32mimport\u001b[0m \u001b[0mconfig\u001b[0m\u001b[0;34m\u001b[0m\u001b[0;34m\u001b[0m\u001b[0m\n\u001b[0;32m---> 20\u001b[0;31m \u001b[0;32mfrom\u001b[0m \u001b[0;34m.\u001b[0m\u001b[0;34m.\u001b[0m\u001b[0mfilesystems\u001b[0m \u001b[0;32mimport\u001b[0m \u001b[0mCOMPRESSION_FILESYSTEMS\u001b[0m\u001b[0;34m\u001b[0m\u001b[0;34m\u001b[0m\u001b[0m\n\u001b[0m\u001b[1;32m     21\u001b[0m from ..utils.file_utils import (\n\u001b[1;32m     22\u001b[0m     \u001b[0mget_authentication_headers_for_url\u001b[0m\u001b[0;34m,\u001b[0m\u001b[0;34m\u001b[0m\u001b[0;34m\u001b[0m\u001b[0m\n",
      "\u001b[0;32m~/miniconda3/envs/assignment/lib/python3.7/site-packages/datasets/filesystems/__init__.py\u001b[0m in \u001b[0;36m<module>\u001b[0;34m\u001b[0m\n\u001b[1;32m      5\u001b[0m \u001b[0;34m\u001b[0m\u001b[0m\n\u001b[1;32m      6\u001b[0m \u001b[0;32mfrom\u001b[0m \u001b[0;34m.\u001b[0m \u001b[0;32mimport\u001b[0m \u001b[0mcompression\u001b[0m\u001b[0;34m\u001b[0m\u001b[0;34m\u001b[0m\u001b[0m\n\u001b[0;32m----> 7\u001b[0;31m \u001b[0;32mfrom\u001b[0m \u001b[0;34m.\u001b[0m\u001b[0mhffilesystem\u001b[0m \u001b[0;32mimport\u001b[0m \u001b[0mHfFileSystem\u001b[0m\u001b[0;34m\u001b[0m\u001b[0;34m\u001b[0m\u001b[0m\n\u001b[0m\u001b[1;32m      8\u001b[0m \u001b[0;34m\u001b[0m\u001b[0m\n\u001b[1;32m      9\u001b[0m \u001b[0;34m\u001b[0m\u001b[0m\n",
      "\u001b[0;32m~/miniconda3/envs/assignment/lib/python3.7/site-packages/datasets/filesystems/hffilesystem.py\u001b[0m in \u001b[0;36m<module>\u001b[0;34m\u001b[0m\n\u001b[1;32m      4\u001b[0m \u001b[0;32mimport\u001b[0m \u001b[0mfsspec\u001b[0m\u001b[0;34m\u001b[0m\u001b[0;34m\u001b[0m\u001b[0m\n\u001b[1;32m      5\u001b[0m \u001b[0;32mfrom\u001b[0m \u001b[0mfsspec\u001b[0m \u001b[0;32mimport\u001b[0m \u001b[0mAbstractFileSystem\u001b[0m\u001b[0;34m\u001b[0m\u001b[0;34m\u001b[0m\u001b[0m\n\u001b[0;32m----> 6\u001b[0;31m \u001b[0;32mfrom\u001b[0m \u001b[0mhuggingface_hub\u001b[0m\u001b[0;34m.\u001b[0m\u001b[0mhf_api\u001b[0m \u001b[0;32mimport\u001b[0m \u001b[0mDatasetInfo\u001b[0m\u001b[0;34m\u001b[0m\u001b[0;34m\u001b[0m\u001b[0m\n\u001b[0m\u001b[1;32m      7\u001b[0m \u001b[0;34m\u001b[0m\u001b[0m\n\u001b[1;32m      8\u001b[0m \u001b[0;32mfrom\u001b[0m \u001b[0;34m.\u001b[0m\u001b[0;34m.\u001b[0m\u001b[0mutils\u001b[0m\u001b[0;34m.\u001b[0m\u001b[0mfile_utils\u001b[0m \u001b[0;32mimport\u001b[0m \u001b[0mget_authentication_headers_for_url\u001b[0m\u001b[0;34m,\u001b[0m \u001b[0mhf_hub_url\u001b[0m\u001b[0;34m\u001b[0m\u001b[0;34m\u001b[0m\u001b[0m\n",
      "\u001b[0;31mImportError\u001b[0m: cannot import name 'DatasetInfo' from 'huggingface_hub.hf_api' (/home/sci/nawazish.khan/miniconda3/envs/assignment/lib/python3.7/site-packages/huggingface_hub/hf_api.py)"
     ]
    }
   ],
   "metadata": {}
  },
  {
   "cell_type": "code",
   "execution_count": null,
   "source": [],
   "outputs": [],
   "metadata": {}
  },
  {
   "cell_type": "code",
   "execution_count": null,
   "source": [],
   "outputs": [],
   "metadata": {}
  }
 ],
 "metadata": {
  "orig_nbformat": 4,
  "language_info": {
   "name": "python",
   "version": "3.7.8",
   "mimetype": "text/x-python",
   "codemirror_mode": {
    "name": "ipython",
    "version": 3
   },
   "pygments_lexer": "ipython3",
   "nbconvert_exporter": "python",
   "file_extension": ".py"
  },
  "kernelspec": {
   "name": "python3",
   "display_name": "Python 3.7.8 64-bit ('assignment': conda)"
  },
  "interpreter": {
   "hash": "9abb8911c1aa7884fef042204dc94fda413b80958c53da6b047e0f4190aa0480"
  }
 },
 "nbformat": 4,
 "nbformat_minor": 2
}